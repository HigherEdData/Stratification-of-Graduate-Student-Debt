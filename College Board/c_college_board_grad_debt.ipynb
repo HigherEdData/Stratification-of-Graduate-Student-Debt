{
 "cells": [
  {
   "cell_type": "code",
   "execution_count": 1,
   "id": "c38f7a09-e3df-44e1-a0d6-f3f37131a08c",
   "metadata": {},
   "outputs": [
    {
     "data": {
      "text/html": [
       "<style>div.jp-Notebook .datagrid-container {min-height: 448px; }</style>"
      ],
      "text/plain": [
       "<IPython.core.display.HTML object>"
      ]
     },
     "metadata": {},
     "output_type": "display_data"
    }
   ],
   "source": [
    "copy \"https://research.collegeboard.org/media/xlsx/Trends-in-Student-Aid-2023-excel-data.xlsx\" ///\n",
    "    Trends-in-Student-Aid-2023-excel-data.xlsx, replace"
   ]
  },
  {
   "cell_type": "markdown",
   "id": "8cb394ba-3918-4849-b555-19e38f3df7a5",
   "metadata": {},
   "source": [
    "## Download and import total grad and undergrad enrollment from NCES / IPEDS / HEGIS"
   ]
  },
  {
   "cell_type": "code",
   "execution_count": 2,
   "id": "3747decf-9629-4604-9d57-eed6930e6ff3",
   "metadata": {},
   "outputs": [],
   "source": [
    "copy \"https://nces.ed.gov/programs/digest/d23/tables/xls/tabn303.80.xlsx\" tabn303.80.xlsx, replace"
   ]
  },
  {
   "cell_type": "code",
   "execution_count": 79,
   "id": "d1682d32-d19c-40b6-b473-026a69b7163a",
   "metadata": {
    "tags": []
   },
   "outputs": [
    {
     "name": "stdout",
     "output_type": "stream",
     "text": [
      "(2 vars, 54 obs)\n"
     ]
    }
   ],
   "source": [
    "import excel using tabn303.80.xlsx, cellrange(A3:B57) firstrow clear"
   ]
  },
  {
   "cell_type": "code",
   "execution_count": 80,
   "id": "361f4fbe-c234-4c07-90cd-aee20528b75b",
   "metadata": {},
   "outputs": [
    {
     "name": "stdout",
     "output_type": "stream",
     "text": [
      "year: all characters numeric; replaced as int\n",
      "(1 observation deleted)\n"
     ]
    }
   ],
   "source": [
    "rename Year year\n",
    "destring year, replace\n",
    "drop if year==1"
   ]
  },
  {
   "cell_type": "code",
   "execution_count": 81,
   "id": "dc586a4d-4cc2-4ad8-affa-468962e9f1eb",
   "metadata": {},
   "outputs": [],
   "source": [
    "rename Total totalenrollment\n",
    "gen typestudent=\"grad\""
   ]
  },
  {
   "cell_type": "code",
   "execution_count": 82,
   "id": "c0630b7d-9d81-4d4e-99b2-df03bd7fd686",
   "metadata": {},
   "outputs": [
    {
     "name": "stdout",
     "output_type": "stream",
     "text": [
      "(53 real changes made)\n"
     ]
    }
   ],
   "source": [
    "replace year=year+1"
   ]
  },
  {
   "cell_type": "code",
   "execution_count": 83,
   "id": "612930de-3290-471f-b5f1-48e31d2b7c74",
   "metadata": {},
   "outputs": [
    {
     "name": "stdout",
     "output_type": "stream",
     "text": [
      "\n",
      "     +----------------------------+\n",
      "     | year   totale~t   typest~t |\n",
      "     |----------------------------|\n",
      "  1. | 1971    1212243       grad |\n",
      "  2. | 1972    1204390       grad |\n",
      "  3. | 1973    1272421       grad |\n",
      "  4. | 1974    1342452       grad |\n",
      "  5. | 1975    1425001       grad |\n",
      "     |----------------------------|\n",
      "  6. | 1976    1505404       grad |\n",
      "  7. | 1977    1577546       grad |\n",
      "  8. | 1978    1569084       grad |\n",
      "  9. | 1979    1575693       grad |\n",
      " 10. | 1980    1571922       grad |\n",
      "     |----------------------------|\n",
      " 11. | 1981    1621840       grad |\n",
      " 12. | 1982    1617150       grad |\n",
      " 13. | 1983    1600718       grad |\n",
      " 14. | 1984    1618666       grad |\n",
      " 15. | 1985    1623869       grad |\n",
      "     |----------------------------|\n",
      " 16. | 1986    1650381       grad |\n",
      " 17. | 1987    1705536       grad |\n",
      " 18. | 1988    1720407       grad |\n",
      " 19. | 1989    1738789       grad |\n",
      " 20. | 1990    1796029       grad |\n",
      "     |----------------------------|\n",
      " 21. | 1991    1859531       grad |\n",
      " 22. | 1992    1919666       grad |\n",
      " 23. | 1993    1949659       grad |\n",
      " 24. | 1994    1980844       grad |\n",
      " 25. | 1995    2016182       grad |\n",
      "     |----------------------------|\n",
      " 26. | 1996    2030062       grad |\n",
      " 27. | 1997    2040572       grad |\n",
      " 28. | 1998    2051747       grad |\n",
      " 29. | 1999    2070030       grad |\n",
      " 30. | 2000    2110246       grad |\n",
      "     |----------------------------|\n",
      " 31. | 2001    2156896       grad |\n",
      " 32. | 2002    2212377       grad |\n",
      " 33. | 2003    2354634       grad |\n",
      " 34. | 2004    2431117       grad |\n",
      " 35. | 2005    2491414       grad |\n",
      "     |----------------------------|\n",
      " 36. | 2006    2523511       grad |\n",
      " 37. | 2007    2574639       grad |\n",
      " 38. | 2008    2644598       grad |\n",
      " 39. | 2009    2737094       grad |\n",
      " 40. | 2010    2849415       grad |\n",
      "     |----------------------------|\n",
      " 41. | 2011    2937011       grad |\n",
      " 42. | 2012    2933287       grad |\n",
      " 43. | 2013    2908840       grad |\n",
      " 44. | 2014    2900373       grad |\n",
      " 45. | 2015    2914956       grad |\n",
      "     |----------------------------|\n",
      " 46. | 2016    2941531       grad |\n",
      " 47. | 2017    2972255       grad |\n",
      " 48. | 2018    3005115       grad |\n",
      " 49. | 2019    3035042       grad |\n",
      " 50. | 2020    3072639       grad |\n",
      "     |----------------------------|\n",
      " 51. | 2021    3142851       grad |\n",
      " 52. | 2022    3211199       grad |\n",
      " 53. | 2023    3182544       grad |\n",
      "     +----------------------------+\n"
     ]
    }
   ],
   "source": [
    "list"
   ]
  },
  {
   "cell_type": "code",
   "execution_count": 84,
   "id": "aa360e9d-00f6-4fa6-85c4-7cecc9566a62",
   "metadata": {},
   "outputs": [
    {
     "name": "stdout",
     "output_type": "stream",
     "text": [
      "file d_ipeds_grad_enrollment_1971_2023.dta saved\n"
     ]
    }
   ],
   "source": [
    "save d_ipeds_grad_enrollment_1971_2023, replace"
   ]
  },
  {
   "cell_type": "code",
   "execution_count": 114,
   "id": "7fcd0309-9300-4eb9-992c-e47a57713fcf",
   "metadata": {},
   "outputs": [],
   "source": [
    "copy \"https://nces.ed.gov/programs/digest/d23/tables/xls/tabn303.70.xlsx\" tabn303.70.xlsx, replace"
   ]
  },
  {
   "cell_type": "code",
   "execution_count": 115,
   "id": "6e7bcfba-5b5a-4daa-a3ad-3d352ae346e0",
   "metadata": {
    "tags": []
   },
   "outputs": [
    {
     "name": "stdout",
     "output_type": "stream",
     "text": [
      "(2 vars, 43 obs)\n"
     ]
    }
   ],
   "source": [
    "import excel using tabn303.70.xlsx, cellrange(A3:B46) firstrow clear"
   ]
  },
  {
   "cell_type": "code",
   "execution_count": 116,
   "id": "f702f0ad-edc6-444d-85b2-74279714b41f",
   "metadata": {},
   "outputs": [
    {
     "name": "stdout",
     "output_type": "stream",
     "text": [
      "(2 observations deleted)\n"
     ]
    }
   ],
   "source": [
    "drop if _n<3"
   ]
  },
  {
   "cell_type": "code",
   "execution_count": 117,
   "id": "eb70f2ed-23b9-4881-8df3-bde94e246093",
   "metadata": {},
   "outputs": [
    {
     "name": "stdout",
     "output_type": "stream",
     "text": [
      "year: all characters numeric; replaced as int\n"
     ]
    }
   ],
   "source": [
    "rename Levelandyear year\n",
    "destring year, replace"
   ]
  },
  {
   "cell_type": "code",
   "execution_count": 118,
   "id": "0535e7a8-3ab1-4b96-8cd9-43ba65b67c1d",
   "metadata": {},
   "outputs": [],
   "source": [
    "rename Total totalenrollment\n",
    "gen typestudent=\"undergrad\""
   ]
  },
  {
   "cell_type": "code",
   "execution_count": 119,
   "id": "7b326a8f-7953-47f6-bbfd-dd9eb028370f",
   "metadata": {},
   "outputs": [
    {
     "name": "stdout",
     "output_type": "stream",
     "text": [
      "(41 real changes made)\n"
     ]
    }
   ],
   "source": [
    "replace year=year+1"
   ]
  },
  {
   "cell_type": "code",
   "execution_count": 120,
   "id": "4db6ff3a-5365-4945-b387-4f444368a7e6",
   "metadata": {},
   "outputs": [],
   "source": [
    "append using d_ipeds_grad_enrollment_1971_2023"
   ]
  },
  {
   "cell_type": "code",
   "execution_count": 121,
   "id": "eef10413-600b-4245-9949-8b8ab56ce1e1",
   "metadata": {},
   "outputs": [
    {
     "name": "stdout",
     "output_type": "stream",
     "text": [
      "(file d_ipeds_undergrad_grad_enrollment_1971_2023.dta not found)\n",
      "file d_ipeds_undergrad_grad_enrollment_1971_2023.dta saved\n"
     ]
    }
   ],
   "source": [
    "save d_ipeds_undergrad_grad_enrollment_1971_2023, replace"
   ]
  },
  {
   "cell_type": "markdown",
   "id": "2ddf5eab-89d2-49f1-86bf-1ee7abc5a404",
   "metadata": {},
   "source": [
    "## Import and reshape counts of borrowers for all students, undergrads, and grads (not including parents in all categories). Grads does not include grad plus borrowers who did not also borrow using Grad Stafford (should be rare)"
   ]
  },
  {
   "cell_type": "code",
   "execution_count": 15,
   "id": "58cc1830-dee2-41ec-b5a6-c661495bfefd",
   "metadata": {},
   "outputs": [
    {
     "name": "stdout",
     "output_type": "stream",
     "text": [
      "(29 vars, 70 obs)\n"
     ]
    }
   ],
   "source": [
    "import excel using Trends-in-Student-Aid-2023-excel-data.xlsx, sheet(\"Table 6\") ///\n",
    "    cellrange(A5:AC74) clear"
   ]
  },
  {
   "cell_type": "code",
   "execution_count": 16,
   "id": "60d880ba-a10b-49d9-8b8b-d0fd83b72b29",
   "metadata": {},
   "outputs": [
    {
     "name": "stdout",
     "output_type": "stream",
     "text": [
      "(67 observations deleted)\n"
     ]
    }
   ],
   "source": [
    "keep if _n==1 | _n==39 | _n==70"
   ]
  },
  {
   "cell_type": "code",
   "execution_count": 17,
   "id": "77927125-f433-4d5a-93e7-a681659cc7e2",
   "metadata": {},
   "outputs": [],
   "source": [
    "local num 1995\n",
    "\n",
    "foreach k in `c(ALPHA)' {\n",
    "rename `k' borrowers`num'\n",
    "    local num = 1+`num'\n",
    "    }"
   ]
  },
  {
   "cell_type": "code",
   "execution_count": 18,
   "id": "f1540b3c-b5ff-4998-9631-1a9bdc49cf8a",
   "metadata": {},
   "outputs": [
    {
     "data": {
      "text/html": [
       "<div>\n",
       "<style scoped>\n",
       "    .dataframe tbody tr th:only-of-type {\n",
       "        vertical-align: middle;\n",
       "    }\n",
       "\n",
       "    .dataframe tbody tr th {\n",
       "        vertical-align: top;\n",
       "    }\n",
       "\n",
       "    .dataframe thead th {\n",
       "        text-align: right;\n",
       "    }\n",
       "</style>\n",
       "<table border=\"1\" class=\"dataframe\">\n",
       "  <thead>\n",
       "    <tr style=\"text-align: right;\">\n",
       "      <th></th>\n",
       "      <th>borrowers1995</th>\n",
       "      <th>borrowers1996</th>\n",
       "      <th>borrowers1997</th>\n",
       "      <th>borrowers1998</th>\n",
       "      <th>borrowers1999</th>\n",
       "      <th>borrowers2000</th>\n",
       "      <th>borrowers2001</th>\n",
       "      <th>borrowers2002</th>\n",
       "      <th>borrowers2003</th>\n",
       "      <th>borrowers2004</th>\n",
       "      <th>borrowers2005</th>\n",
       "      <th>borrowers2006</th>\n",
       "      <th>borrowers2007</th>\n",
       "      <th>borrowers2008</th>\n",
       "      <th>borrowers2009</th>\n",
       "      <th>borrowers2010</th>\n",
       "      <th>borrowers2011</th>\n",
       "      <th>borrowers2012</th>\n",
       "      <th>borrowers2013</th>\n",
       "      <th>borrowers2014</th>\n",
       "      <th>borrowers2015</th>\n",
       "      <th>borrowers2016</th>\n",
       "      <th>borrowers2017</th>\n",
       "      <th>borrowers2018</th>\n",
       "      <th>borrowers2019</th>\n",
       "      <th>borrowers2020</th>\n",
       "      <th>AA</th>\n",
       "      <th>AB</th>\n",
       "      <th>AC</th>\n",
       "    </tr>\n",
       "  </thead>\n",
       "  <tbody>\n",
       "    <tr>\n",
       "      <th>1</th>\n",
       "      <td># Borrowers (000)</td>\n",
       "      <td>4396.157</td>\n",
       "      <td>4640.823</td>\n",
       "      <td>4770.932000000001</td>\n",
       "      <td>4842.883</td>\n",
       "      <td>4897.527</td>\n",
       "      <td>4991.645</td>\n",
       "      <td>5352.594</td>\n",
       "      <td>5883.646000000001</td>\n",
       "      <td>6492.161</td>\n",
       "      <td>6923.929</td>\n",
       "      <td>7151.704000000001</td>\n",
       "      <td>7288.445</td>\n",
       "      <td>7744.951999999999</td>\n",
       "      <td>8657.380000000001</td>\n",
       "      <td>10176.901</td>\n",
       "      <td>11030.96881161608</td>\n",
       "      <td>11101.18403122428</td>\n",
       "      <td>10519.418</td>\n",
       "      <td>9504.802</td>\n",
       "      <td>9047.913</td>\n",
       "      <td>8569.563</td>\n",
       "      <td>8226.503999999999</td>\n",
       "      <td>7948.456</td>\n",
       "      <td>7650.967</td>\n",
       "      <td>7383.894</td>\n",
       "      <td>6837.666999999999</td>\n",
       "      <td>6477.592</td>\n",
       "      <td>6386.020160749966</td>\n",
       "    </tr>\n",
       "    <tr>\n",
       "      <th>2</th>\n",
       "      <td># Borrowers (000)</td>\n",
       "      <td>3738.938</td>\n",
       "      <td>3956.199</td>\n",
       "      <td>4099.568</td>\n",
       "      <td>4153.347</td>\n",
       "      <td>4197.788</td>\n",
       "      <td>4279.459</td>\n",
       "      <td>4581.964</td>\n",
       "      <td>5002.639</td>\n",
       "      <td>5493.328</td>\n",
       "      <td>5838.993</td>\n",
       "      <td>6016.735000000001</td>\n",
       "      <td>6111.442</td>\n",
       "      <td>6473.407999999999</td>\n",
       "      <td>7290.391000000001</td>\n",
       "      <td>8581.310395951026</td>\n",
       "      <td>9437.906999999999</td>\n",
       "      <td>9505.18</td>\n",
       "      <td>9024.366</td>\n",
       "      <td>8029.063</td>\n",
       "      <td>7601.389</td>\n",
       "      <td>7130.807</td>\n",
       "      <td>6781.48</td>\n",
       "      <td>6501.629</td>\n",
       "      <td>6201.749</td>\n",
       "      <td>5950.578</td>\n",
       "      <td>5386.245</td>\n",
       "      <td>5075.968</td>\n",
       "      <td>5037.297652981327</td>\n",
       "    </tr>\n",
       "    <tr>\n",
       "      <th>3</th>\n",
       "      <td># Borrowers (000)</td>\n",
       "      <td>657.2190000000001</td>\n",
       "      <td>684.624</td>\n",
       "      <td>671.364</td>\n",
       "      <td>689.5359999999999</td>\n",
       "      <td>699.739</td>\n",
       "      <td>712.1859999999999</td>\n",
       "      <td>770.63</td>\n",
       "      <td>881.0070000000001</td>\n",
       "      <td>998.8330000000001</td>\n",
       "      <td>1084.936</td>\n",
       "      <td>1134.969</td>\n",
       "      <td>1177.003</td>\n",
       "      <td>1271.544</td>\n",
       "      <td>1366.989</td>\n",
       "      <td>1595.590604048974</td>\n",
       "      <td>1593.061811616082</td>\n",
       "      <td>1596.004031224276</td>\n",
       "      <td>1495.052</td>\n",
       "      <td>1475.739</td>\n",
       "      <td>1446.524</td>\n",
       "      <td>1438.756</td>\n",
       "      <td>1445.024</td>\n",
       "      <td>1446.827</td>\n",
       "      <td>1449.218</td>\n",
       "      <td>1433.316</td>\n",
       "      <td>1451.422</td>\n",
       "      <td>1401.624</td>\n",
       "      <td>1348.722507768639</td>\n",
       "    </tr>\n",
       "  </tbody>\n",
       "</table>\n",
       "</div>"
      ]
     },
     "metadata": {},
     "output_type": "display_data"
    }
   ],
   "source": [
    "%head"
   ]
  },
  {
   "cell_type": "code",
   "execution_count": 19,
   "id": "7bf279ea-ad08-4e57-83b7-51a2469f4033",
   "metadata": {},
   "outputs": [],
   "source": [
    "drop borrowers1995"
   ]
  },
  {
   "cell_type": "code",
   "execution_count": 20,
   "id": "76a0da98-3fc5-405a-86be-5d6e81fb4fe1",
   "metadata": {},
   "outputs": [],
   "source": [
    "rename AA borrowers2021\n",
    "rename AB borrowers2022\n",
    "rename AC borrowers2023"
   ]
  },
  {
   "cell_type": "code",
   "execution_count": 21,
   "id": "9fffc483-e9ec-4a1d-a4d5-66aaea9b9dd2",
   "metadata": {},
   "outputs": [
    {
     "name": "stdout",
     "output_type": "stream",
     "text": [
      "(2 missing values generated)\n",
      "variable typestudent was str3 now str9\n",
      "(1 real change made)\n",
      "(1 real change made)\n"
     ]
    }
   ],
   "source": [
    "gen typestudent=\"all\" if _n==1\n",
    "replace typestudent=\"undergrad\" if _n==2\n",
    "replace typestudent=\"grad\" if _n==3"
   ]
  },
  {
   "cell_type": "code",
   "execution_count": 22,
   "id": "659a2eaf-bc91-4c3d-a58e-ee003487ff58",
   "metadata": {},
   "outputs": [
    {
     "name": "stdout",
     "output_type": "stream",
     "text": [
      "(j = 1996 1997 1998 1999 2000 2001 2002 2003 2004 2005 2006 2007 2008 2009 2010\n",
      ">  2011 2012 2013 2014 2015 2016 2017 2018 2019 2020 2021 2022 2023)\n",
      "\n",
      "Data                               Wide   ->   Long\n",
      "-----------------------------------------------------------------------------\n",
      "Number of observations                3   ->   84          \n",
      "Number of variables                  29   ->   3           \n",
      "j variable (28 values)                    ->   year\n",
      "xij variables:\n",
      "borrowers1996 borrowers1997 ... borrowers2023->borrowers\n",
      "-----------------------------------------------------------------------------\n"
     ]
    }
   ],
   "source": [
    "reshape long borrowers, i(typestudent) j(year)"
   ]
  },
  {
   "cell_type": "code",
   "execution_count": 23,
   "id": "7b67662b-b17b-40d5-ac5d-668cdd2e61af",
   "metadata": {},
   "outputs": [
    {
     "data": {
      "text/html": [
       "<div>\n",
       "<style scoped>\n",
       "    .dataframe tbody tr th:only-of-type {\n",
       "        vertical-align: middle;\n",
       "    }\n",
       "\n",
       "    .dataframe tbody tr th {\n",
       "        vertical-align: top;\n",
       "    }\n",
       "\n",
       "    .dataframe thead th {\n",
       "        text-align: right;\n",
       "    }\n",
       "</style>\n",
       "<table border=\"1\" class=\"dataframe\">\n",
       "  <thead>\n",
       "    <tr style=\"text-align: right;\">\n",
       "      <th></th>\n",
       "      <th>typestudent</th>\n",
       "      <th>year</th>\n",
       "      <th>borrowers</th>\n",
       "    </tr>\n",
       "  </thead>\n",
       "  <tbody>\n",
       "    <tr>\n",
       "      <th>1</th>\n",
       "      <td>all</td>\n",
       "      <td>1996</td>\n",
       "      <td>4396.157</td>\n",
       "    </tr>\n",
       "    <tr>\n",
       "      <th>2</th>\n",
       "      <td>all</td>\n",
       "      <td>1997</td>\n",
       "      <td>4640.823</td>\n",
       "    </tr>\n",
       "    <tr>\n",
       "      <th>3</th>\n",
       "      <td>all</td>\n",
       "      <td>1998</td>\n",
       "      <td>4770.932000000001</td>\n",
       "    </tr>\n",
       "    <tr>\n",
       "      <th>4</th>\n",
       "      <td>all</td>\n",
       "      <td>1999</td>\n",
       "      <td>4842.883</td>\n",
       "    </tr>\n",
       "    <tr>\n",
       "      <th>5</th>\n",
       "      <td>all</td>\n",
       "      <td>2000</td>\n",
       "      <td>4897.527</td>\n",
       "    </tr>\n",
       "  </tbody>\n",
       "</table>\n",
       "</div>"
      ]
     },
     "metadata": {},
     "output_type": "display_data"
    }
   ],
   "source": [
    "%head"
   ]
  },
  {
   "cell_type": "code",
   "execution_count": 24,
   "id": "9c78b4df-e3ae-4e82-90bc-2ca20c146748",
   "metadata": {
    "tags": []
   },
   "outputs": [
    {
     "name": "stdout",
     "output_type": "stream",
     "text": [
      "file d_borrower_counts_studentaid_trends1996_2023.dta saved\n"
     ]
    }
   ],
   "source": [
    "save d_borrower_counts_studentaid_trends1996_2023, replace"
   ]
  },
  {
   "cell_type": "markdown",
   "id": "3034a13c-00a6-4149-bfe9-f031dc4cb445",
   "metadata": {},
   "source": [
    "## Import and then append borrowing amounts by all students, undergrad, and grad"
   ]
  },
  {
   "cell_type": "code",
   "execution_count": 25,
   "id": "46724a2b-1c00-4716-9920-4028fe98d937",
   "metadata": {},
   "outputs": [
    {
     "name": "stdout",
     "output_type": "stream",
     "text": [
      "(10 vars, 52 obs)\n"
     ]
    }
   ],
   "source": [
    "import excel using Trends-in-Student-Aid-2023-excel-data.xlsx, sheet(\"Table 3\") ///\n",
    "    cellrange(A2:J54) firstrow clear"
   ]
  },
  {
   "cell_type": "code",
   "execution_count": 26,
   "id": "833b09d7-0358-4eeb-8504-53756811bfb6",
   "metadata": {},
   "outputs": [],
   "source": [
    "rename AllStudents year"
   ]
  },
  {
   "cell_type": "code",
   "execution_count": 27,
   "id": "81f05b25-e9e4-4d64-8a50-ae8a87c73e3e",
   "metadata": {},
   "outputs": [],
   "source": [
    "gen typestudent=\"all\""
   ]
  },
  {
   "cell_type": "code",
   "execution_count": 28,
   "id": "083d197b-88cd-480d-baf3-c4942324ac4b",
   "metadata": {},
   "outputs": [
    {
     "name": "stdout",
     "output_type": "stream",
     "text": [
      "file d_allstudentaid_trends1971_2023.dta saved\n"
     ]
    }
   ],
   "source": [
    "save d_allstudentaid_trends1971_2023, replace"
   ]
  },
  {
   "cell_type": "code",
   "execution_count": 29,
   "id": "b02af29d-994a-405e-8fb7-deb721ff6117",
   "metadata": {},
   "outputs": [
    {
     "name": "stdout",
     "output_type": "stream",
     "text": [
      "(10 vars, 33 obs)\n"
     ]
    }
   ],
   "source": [
    "import excel using Trends-in-Student-Aid-2023-excel-data.xlsx, sheet(\"Table 3\") ///\n",
    "    cellrange(A55:J88) firstrow clear"
   ]
  },
  {
   "cell_type": "code",
   "execution_count": 30,
   "id": "f083fdf2-2a67-49d7-9ae5-136c3857ab79",
   "metadata": {},
   "outputs": [],
   "source": [
    "gen typestudent=\"undergrad\""
   ]
  },
  {
   "cell_type": "code",
   "execution_count": 31,
   "id": "01c6a94c-b4be-4252-8ce1-3855775e70b2",
   "metadata": {},
   "outputs": [],
   "source": [
    "rename UndergraduateStudents year"
   ]
  },
  {
   "cell_type": "code",
   "execution_count": 32,
   "id": "586d22ed-f8f8-425b-abfd-63cdac8802ea",
   "metadata": {},
   "outputs": [
    {
     "name": "stdout",
     "output_type": "stream",
     "text": [
      "file d_undergradstudentaid_trends1971_2023.dta saved\n"
     ]
    }
   ],
   "source": [
    "save d_undergradstudentaid_trends1971_2023, replace"
   ]
  },
  {
   "cell_type": "code",
   "execution_count": 122,
   "id": "6ace9cdb-58ea-4b44-8424-ee719a0d9ab1",
   "metadata": {},
   "outputs": [
    {
     "name": "stdout",
     "output_type": "stream",
     "text": [
      "(10 vars, 33 obs)\n"
     ]
    }
   ],
   "source": [
    "import excel using Trends-in-Student-Aid-2023-excel-data.xlsx, sheet(\"Table 3\") ///\n",
    "    cellrange(A89:J122) firstrow clear"
   ]
  },
  {
   "cell_type": "code",
   "execution_count": 123,
   "id": "1c0c6627-bbbf-4272-a6e3-6c99b841f19e",
   "metadata": {},
   "outputs": [],
   "source": [
    "gen typestudent=\"grad\""
   ]
  },
  {
   "cell_type": "code",
   "execution_count": 124,
   "id": "219c30e4-c51c-4045-93ae-a4439390ce68",
   "metadata": {},
   "outputs": [],
   "source": [
    "rename GraduateStudents year"
   ]
  },
  {
   "cell_type": "code",
   "execution_count": 125,
   "id": "84be79c0-40be-438a-887f-24a4a2c84e1e",
   "metadata": {},
   "outputs": [
    {
     "name": "stdout",
     "output_type": "stream",
     "text": [
      "(variable typestudent was str4, now str9 to accommodate using data's values)\n"
     ]
    }
   ],
   "source": [
    "append using d_undergradstudentaid_trends1971_2023"
   ]
  },
  {
   "cell_type": "code",
   "execution_count": 126,
   "id": "f8afe274-09a4-45b5-a768-74f07cfbc5fd",
   "metadata": {},
   "outputs": [],
   "source": [
    "append using d_allstudentaid_trends1971_2023"
   ]
  },
  {
   "cell_type": "code",
   "execution_count": 127,
   "id": "fefca9b4-a406-4231-b2e6-81ff8183ef31",
   "metadata": {},
   "outputs": [
    {
     "name": "stdout",
     "output_type": "stream",
     "text": [
      "(118 real changes made)\n",
      "year: all characters numeric; replaced as int\n"
     ]
    }
   ],
   "source": [
    "replace year=substr(year, 1,4)\n",
    "destring year, replace"
   ]
  },
  {
   "cell_type": "code",
   "execution_count": 128,
   "id": "f29c357c-9660-45c5-8e5e-24fb952b1084",
   "metadata": {},
   "outputs": [
    {
     "name": "stdout",
     "output_type": "stream",
     "text": [
      "(118 real changes made)\n"
     ]
    }
   ],
   "source": [
    "replace year=year+1"
   ]
  },
  {
   "cell_type": "code",
   "execution_count": 129,
   "id": "e172e542-7112-4a0e-9305-1dfa07f37d25",
   "metadata": {},
   "outputs": [
    {
     "name": "stdout",
     "output_type": "stream",
     "text": [
      "\n",
      "    Result                      Number of obs\n",
      "    -----------------------------------------\n",
      "    Not matched                            34\n",
      "        from master                        34  \n",
      "        from using                          0  \n",
      "\n",
      "    Matched                                84  \n",
      "    -----------------------------------------\n"
     ]
    }
   ],
   "source": [
    "merge 1:1 typestudent year using d_borrower_counts_studentaid_trends1996_2023, nogen"
   ]
  },
  {
   "cell_type": "code",
   "execution_count": 130,
   "id": "a8369e7d-aa55-4b51-8b7b-657bbabc2f6a",
   "metadata": {},
   "outputs": [
    {
     "name": "stdout",
     "output_type": "stream",
     "text": [
      "\n",
      "    Result                      Number of obs\n",
      "    -----------------------------------------\n",
      "    Not matched                            52\n",
      "        from master                        52  \n",
      "        from using                          0  \n",
      "\n",
      "    Matched                                66\n",
      "        not updated                        66  \n",
      "        missing updated                     0  \n",
      "        nonmissing conflict                 0  \n",
      "    -----------------------------------------\n"
     ]
    }
   ],
   "source": [
    "merge 1:1 typestudent year using d_ipeds_undergrad_grad_enrollment_1971_2023.dta, keep(1 3) nogen update"
   ]
  },
  {
   "cell_type": "code",
   "execution_count": 131,
   "id": "0ca2767d-7569-4a54-b966-4859b00d4d9a",
   "metadata": {},
   "outputs": [
    {
     "name": "stdout",
     "output_type": "stream",
     "text": [
      "borrowers: all characters numeric; replaced as double\n",
      "(34 missing values generated)\n"
     ]
    }
   ],
   "source": [
    "destring borrowers, replace"
   ]
  },
  {
   "cell_type": "code",
   "execution_count": 132,
   "id": "fb4dbf60-24f4-4b03-b34e-f6e49f3aba97",
   "metadata": {},
   "outputs": [
    {
     "name": "stdout",
     "output_type": "stream",
     "text": [
      "(84 real changes made)\n"
     ]
    }
   ],
   "source": [
    "replace borrowers=borrowers*1000"
   ]
  },
  {
   "cell_type": "code",
   "execution_count": 133,
   "id": "280d506b-1458-41d2-b225-daaf6ad0d97f",
   "metadata": {},
   "outputs": [
    {
     "name": "stdout",
     "output_type": "stream",
     "text": [
      "(62 missing values generated)\n"
     ]
    }
   ],
   "source": [
    "gen pct_borrowing=borrowers / totalenrollment * 100"
   ]
  },
  {
   "cell_type": "code",
   "execution_count": 134,
   "id": "e8f82430-c71e-4f9e-8859-fe3a86285c7b",
   "metadata": {},
   "outputs": [
    {
     "name": "stdout",
     "output_type": "stream",
     "text": [
      "file d_long_trends_in_student_aid1972_2023.dta saved\n"
     ]
    }
   ],
   "source": [
    "label var year year\n",
    "save d_long_trends_in_student_aid1972_2023, replace"
   ]
  },
  {
   "cell_type": "code",
   "execution_count": 135,
   "id": "89a03881-b1e3-4f60-8a72-e8272de44fd9",
   "metadata": {},
   "outputs": [],
   "source": [
    "encode typestudent, gen(typestudentn)"
   ]
  },
  {
   "cell_type": "code",
   "execution_count": 136,
   "id": "08f26e36-f3b5-45fe-9eb9-1a9d4af1650b",
   "metadata": {},
   "outputs": [
    {
     "name": "stdout",
     "output_type": "stream",
     "text": [
      "\n",
      "Panel variable: typestudentn (unbalanced)\n",
      " Time variable: year, 1972 to 2023\n",
      "         Delta: 1 unit\n"
     ]
    }
   ],
   "source": [
    "xtset typestudentn year"
   ]
  },
  {
   "cell_type": "code",
   "execution_count": 137,
   "id": "e7010b08-7a6d-4fdb-8616-c552d477b983",
   "metadata": {},
   "outputs": [
    {
     "name": "stdout",
     "output_type": "stream",
     "text": [
      "(52 observations deleted)\n"
     ]
    }
   ],
   "source": [
    "drop if typestudent==\"all\""
   ]
  },
  {
   "cell_type": "code",
   "execution_count": 138,
   "id": "0ee1c298-0a0b-483e-9765-c36512a6e903",
   "metadata": {},
   "outputs": [],
   "source": [
    "label var pct_borrowing \"% of students who borrow\""
   ]
  },
  {
   "cell_type": "code",
   "execution_count": 140,
   "id": "e742870c-5b98-4c87-a861-f4e974bfb831",
   "metadata": {},
   "outputs": [
    {
     "data": {
      "image/png": "[encoded data removed]",
      "text/plain": [
       "<IPython.core.display.Image object>"
      ]
     },
     "metadata": {},
     "output_type": "display_data"
    }
   ],
   "source": [
    "xtline pct_borrowing if year > 1990, overlay schem(plotplain) xlabel(1995(5)2025)"
   ]
  },
  {
   "cell_type": "code",
   "execution_count": 62,
   "id": "0912b84f-fd12-4408-a1ca-fed2a850395b",
   "metadata": {},
   "outputs": [
    {
     "data": {
      "text/html": [
       "<div>\n",
       "<style scoped>\n",
       "    .dataframe tbody tr th:only-of-type {\n",
       "        vertical-align: middle;\n",
       "    }\n",
       "\n",
       "    .dataframe tbody tr th {\n",
       "        vertical-align: top;\n",
       "    }\n",
       "\n",
       "    .dataframe thead th {\n",
       "        text-align: right;\n",
       "    }\n",
       "</style>\n",
       "<table border=\"1\" class=\"dataframe\">\n",
       "  <thead>\n",
       "    <tr style=\"text-align: right;\">\n",
       "      <th></th>\n",
       "      <th>year</th>\n",
       "      <th>FullTimeEquivalentEnrollment</th>\n",
       "      <th>TotalAidinMillions</th>\n",
       "      <th>AverageTotalAidperFTE</th>\n",
       "      <th>TotalGrantAidinMillions</th>\n",
       "      <th>AverageGrantAidperFTE</th>\n",
       "      <th>TotalFederalLoanAidinMill</th>\n",
       "      <th>AverageFederalLoansperFTE</th>\n",
       "      <th>TotalFederalandNonfederalLoa</th>\n",
       "      <th>AverageFederalandNonfederalL</th>\n",
       "      <th>typestudent</th>\n",
       "      <th>borrowers</th>\n",
       "      <th>totalenrollment</th>\n",
       "      <th>_merge</th>\n",
       "      <th>pct_borrowing</th>\n",
       "      <th>typestudentn</th>\n",
       "    </tr>\n",
       "  </thead>\n",
       "  <tbody>\n",
       "    <tr>\n",
       "      <th>31</th>\n",
       "      <td>2001</td>\n",
       "      <td>1443411</td>\n",
       "      <td>29930.116</td>\n",
       "      <td>20735.685</td>\n",
       "      <td>10590.184</td>\n",
       "      <td>7336.9152</td>\n",
       "      <td>18068.103</td>\n",
       "      <td>12517.643</td>\n",
       "      <td>20317.383</td>\n",
       "      <td>14075.951</td>\n",
       "      <td>grad</td>\n",
       "      <td>712.186</td>\n",
       "      <td>.</td>\n",
       "      <td>Matched (3)</td>\n",
       "      <td>.</td>\n",
       "      <td>grad</td>\n",
       "    </tr>\n",
       "    <tr>\n",
       "      <th>32</th>\n",
       "      <td>2002</td>\n",
       "      <td>1484019</td>\n",
       "      <td>31160.001</td>\n",
       "      <td>20997.036</td>\n",
       "      <td>10666.302</td>\n",
       "      <td>7187.443</td>\n",
       "      <td>19127.587</td>\n",
       "      <td>12889.045</td>\n",
       "      <td>21822.507</td>\n",
       "      <td>14705.005</td>\n",
       "      <td>grad</td>\n",
       "      <td>770.63</td>\n",
       "      <td>.</td>\n",
       "      <td>Matched (3)</td>\n",
       "      <td>.</td>\n",
       "      <td>grad</td>\n",
       "    </tr>\n",
       "    <tr>\n",
       "      <th>33</th>\n",
       "      <td>2003</td>\n",
       "      <td>1592958</td>\n",
       "      <td>34269.092</td>\n",
       "      <td>21512.866</td>\n",
       "      <td>10595.409</td>\n",
       "      <td>6651.4051</td>\n",
       "      <td>22144.868</td>\n",
       "      <td>13901.728</td>\n",
       "      <td>25788.613</td>\n",
       "      <td>16189.136</td>\n",
       "      <td>grad</td>\n",
       "      <td>881.007</td>\n",
       "      <td>.</td>\n",
       "      <td>Matched (3)</td>\n",
       "      <td>.</td>\n",
       "      <td>grad</td>\n",
       "    </tr>\n",
       "    <tr>\n",
       "      <th>34</th>\n",
       "      <td>2004</td>\n",
       "      <td>1664306</td>\n",
       "      <td>37848.861</td>\n",
       "      <td>22741.528</td>\n",
       "      <td>11095.69</td>\n",
       "      <td>6666.8567</td>\n",
       "      <td>25099.136</td>\n",
       "      <td>15080.842</td>\n",
       "      <td>28972.156</td>\n",
       "      <td>17407.951</td>\n",
       "      <td>grad</td>\n",
       "      <td>998.833</td>\n",
       "      <td>.</td>\n",
       "      <td>Matched (3)</td>\n",
       "      <td>.</td>\n",
       "      <td>grad</td>\n",
       "    </tr>\n",
       "    <tr>\n",
       "      <th>35</th>\n",
       "      <td>2005</td>\n",
       "      <td>1714360</td>\n",
       "      <td>41081.747</td>\n",
       "      <td>23963.314</td>\n",
       "      <td>12188.795</td>\n",
       "      <td>7109.8222</td>\n",
       "      <td>27128.57</td>\n",
       "      <td>15824.314</td>\n",
       "      <td>31935.455</td>\n",
       "      <td>18628.208</td>\n",
       "      <td>grad</td>\n",
       "      <td>1084.936</td>\n",
       "      <td>.</td>\n",
       "      <td>Matched (3)</td>\n",
       "      <td>.</td>\n",
       "      <td>grad</td>\n",
       "    </tr>\n",
       "  </tbody>\n",
       "</table>\n",
       "</div>"
      ]
     },
     "metadata": {},
     "output_type": "display_data"
    }
   ],
   "source": [
    "%head if year>2000"
   ]
  },
  {
   "cell_type": "code",
   "execution_count": 72,
   "id": "0ef13c4c-1a00-467c-8d9f-4b0abf0036fa",
   "metadata": {},
   "outputs": [
    {
     "data": {
      "image/png": "[encoded data removed]",
      "text/plain": [
       "<IPython.core.display.Image object>"
      ]
     },
     "metadata": {},
     "output_type": "display_data"
    }
   ],
   "source": [
    "xtline AverageFederalandNonfederalL, overlay schem(plotplain)"
   ]
  },
  {
   "cell_type": "code",
   "execution_count": 73,
   "id": "346cf311-ef86-4ad2-b62c-4dbfb4ebc1d1",
   "metadata": {},
   "outputs": [],
   "source": [
    "gen borrowing_billions=TotalFederalLoanAidinMill/1000"
   ]
  },
  {
   "cell_type": "code",
   "execution_count": 74,
   "id": "c4b52fc0-d137-42b1-825f-5274638f9760",
   "metadata": {},
   "outputs": [],
   "source": [
    "label var borrowing_billions \"borrowing in billions (2022 $)\""
   ]
  },
  {
   "cell_type": "code",
   "execution_count": 75,
   "id": "d0e8a1d1-4f30-479f-a9b8-b12a1976cd1b",
   "metadata": {},
   "outputs": [
    {
     "data": {
      "image/png": "[encoded data removed]",
      "text/plain": [
       "<IPython.core.display.Image object>"
      ]
     },
     "metadata": {},
     "output_type": "display_data"
    }
   ],
   "source": [
    "xtline borrowing_billions, overlay schem(plotplain)"
   ]
  },
  {
   "cell_type": "code",
   "execution_count": null,
   "id": "eb2273cc-f099-4768-aa17-0a2bd27c8fcf",
   "metadata": {},
   "outputs": [],
   "source": []
  }
 ],
 "metadata": {
  "kernelspec": {
   "display_name": "Stata (nbstata)",
   "language": "stata",
   "name": "nbstata"
  },
  "language_info": {
   "file_extension": ".do",
   "mimetype": "text/x-stata",
   "name": "stata",
   "version": "17"
  }
 },
 "nbformat": 4,
 "nbformat_minor": 5
}
