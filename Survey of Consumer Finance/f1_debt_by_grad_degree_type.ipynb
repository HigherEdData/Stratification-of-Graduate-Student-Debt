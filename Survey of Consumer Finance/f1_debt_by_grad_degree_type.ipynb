{
 "cells": [
  {
   "cell_type": "code",
   "execution_count": null,
   "id": "32718977-c036-4780-823b-0395466fa303",
   "metadata": {},
   "outputs": [],
   "source": [
    "f1_debt_by_grad_degree_type"
   ]
  }
 ],
 "metadata": {
  "kernelspec": {
   "display_name": "Stata (nbstata)",
   "language": "stata",
   "name": "nbstata"
  },
  "language_info": {
   "file_extension": ".do",
   "mimetype": "text/x-stata",
   "name": "stata",
   "version": "17"
  }
 },
 "nbformat": 4,
 "nbformat_minor": 5
}
